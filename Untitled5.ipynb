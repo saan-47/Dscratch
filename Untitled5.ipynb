{
 "cells": [
  {
   "cell_type": "code",
   "execution_count": 1,
   "metadata": {},
   "outputs": [],
   "source": [
    "def structure():\n",
    "    print(\"We will check whether your input is a descrete structure or not\")\n",
    "    print(\"Signs should be defined with elements of set.\")\n",
    "    i = input(\"Enter your set: \")\n",
    "    if i == \"-i, +i, -1, +1\" or i == \"-w, +w, -w, +w\":\n",
    "        print(\"it is a DESCRETE STRUCTURE\")\n",
    "    else:\n",
    "        print(\"it is a NOT DESCRETE STRUCTURE\")\n",
    "    \n",
    "    "
   ]
  },
  {
   "cell_type": "code",
   "execution_count": 2,
   "metadata": {},
   "outputs": [
    {
     "name": "stdout",
     "output_type": "stream",
     "text": [
      "enter: \n",
      "hmm\n"
     ]
    }
   ],
   "source": [
    "i = input(\"enter: \")\n",
    "if i == \",\":\n",
    "    b = input(\"ohh\")\n",
    "else:\n",
    "    print(\"hmm\")"
   ]
  },
  {
   "cell_type": "code",
   "execution_count": 2,
   "metadata": {},
   "outputs": [
    {
     "name": "stdout",
     "output_type": "stream",
     "text": [
      "enter limit: 5\n",
      "Enter element 1\n",
      "Enter element 2\n",
      "Enter element 3\n",
      "Enter element 4\n",
      "Enter element 5\n",
      "[1, 2, 3, 4, 5]\n"
     ]
    }
   ],
   "source": [
    "list = []\n",
    "no = int(input(\"enter limit: \"))\n",
    "for i in range(0, no):\n",
    "    inp = int(input(\"Enter element \"))\n",
    "    list.append(inp)\n",
    "\n",
    "print(list)"
   ]
  },
  {
   "cell_type": "code",
   "execution_count": 4,
   "metadata": {},
   "outputs": [],
   "source": [
    "dic = {\n",
    "    \"name\": \"hassan\",\n",
    "}"
   ]
  },
  {
   "cell_type": "code",
   "execution_count": 2,
   "metadata": {},
   "outputs": [
    {
     "name": "stdout",
     "output_type": "stream",
     "text": [
      "Formula of series\n",
      "Enter your choice \n",
      "'sn' for sum\n",
      "'n' for No of terms\n",
      "'d' for common difference\n",
      "'a' for first term\n",
      "Enter choice: n\n"
     ]
    }
   ],
   "source": [
    "#sn = 2/n(2a+(n-1)d)\n",
    "print(\"Formula of series\")\n",
    "print(\"Enter your choice \\n'sn' for sum\\n'n' for No of terms\\n'd' for common difference\\n'a' for first term\")\n",
    "choice = input(\"Enter choice: \")\n",
    "def func():\n",
    "    if choice == \"sn\":\n",
    "        a = int(input(\"Enter first term of the series: \"))\n",
    "        d = int(input(\"Enter common difference of the series: \"))\n",
    "        n = int(input(\"Enter no of temrs in the series: \"))\n",
    "    \n",
    "        x = 2/n\n",
    "        y = 2*a\n",
    "        xy = (n-1)*d\n",
    "        yx = y + xy\n",
    "        z = x * yx\n",
    "        print(\"The sumof the series is: \", z)\n",
    "   \n"
   ]
  },
  {
   "cell_type": "code",
   "execution_count": 12,
   "metadata": {},
   "outputs": [],
   "source": [
    "#Sets\n",
    "#lik = []\n",
    "def func(set1, set2):\n",
    "    print(\"For union press 'U'\\nFor Intersection press 'I'\\nFor Compliment press 'C'\\nFor Equal press 'E'\\nFor Equivalent set\"\n",
    "          \" Press 'EQ'\\nTo check Cartesion Product press 'CAR'\\n\")\n",
    "    choi = input(\"Enter your choice: \")\n",
    "    if choi == 'U' or 'u':\n",
    "        inter = []\n",
    "        for i in set1:\n",
    "            for j in set2:\n",
    "                if i != j:\n",
    "                    jk = (-i)\n",
    "                    if i != jk:\n",
    "                        inter.append(i)\n",
    "                        i-=1\n",
    "                        break\n",
    "        print(inter)\n",
    "    if choi == \"I\" or 'i':\n",
    "        inter = []\n",
    "        for i in set1:\n",
    "            for j in set2:\n",
    "                if i == j:\n",
    "                    inter.append(i)\n",
    "        print(inter, \"sd\")"
   ]
  },
  {
   "cell_type": "code",
   "execution_count": 13,
   "metadata": {},
   "outputs": [
    {
     "name": "stdout",
     "output_type": "stream",
     "text": [
      "For union press 'U'\n",
      "For Intersection press 'I'\n",
      "For Compliment press 'C'\n",
      "For Equal press 'E'\n",
      "For Equivalent set Press 'EQ'\n",
      "To check Cartesion Product press 'CAR'\n",
      "\n",
      "Enter your choice: u\n"
     ]
    },
    {
     "ename": "TypeError",
     "evalue": "append() takes exactly one argument (2 given)",
     "output_type": "error",
     "traceback": [
      "\u001b[1;31m---------------------------------------------------------------------------\u001b[0m",
      "\u001b[1;31mTypeError\u001b[0m                                 Traceback (most recent call last)",
      "\u001b[1;32m<ipython-input-13-c41e39ce4ad4>\u001b[0m in \u001b[0;36m<module>\u001b[1;34m\u001b[0m\n\u001b[0;32m     13\u001b[0m \u001b[1;31m#print(li)\u001b[0m\u001b[1;33m\u001b[0m\u001b[1;33m\u001b[0m\u001b[1;33m\u001b[0m\u001b[0m\n\u001b[0;32m     14\u001b[0m \u001b[1;31m#print(li1)\u001b[0m\u001b[1;33m\u001b[0m\u001b[1;33m\u001b[0m\u001b[1;33m\u001b[0m\u001b[0m\n\u001b[1;32m---> 15\u001b[1;33m \u001b[0mfunc\u001b[0m\u001b[1;33m(\u001b[0m\u001b[0mli\u001b[0m\u001b[1;33m,\u001b[0m\u001b[0mli1\u001b[0m\u001b[1;33m)\u001b[0m\u001b[1;33m\u001b[0m\u001b[1;33m\u001b[0m\u001b[0m\n\u001b[0m",
      "\u001b[1;32m<ipython-input-12-b99b50f1333b>\u001b[0m in \u001b[0;36mfunc\u001b[1;34m(set1, set2)\u001b[0m\n\u001b[0;32m     12\u001b[0m                     \u001b[0mjk\u001b[0m \u001b[1;33m=\u001b[0m \u001b[1;33m(\u001b[0m\u001b[1;33m-\u001b[0m\u001b[0mi\u001b[0m\u001b[1;33m)\u001b[0m\u001b[1;33m\u001b[0m\u001b[1;33m\u001b[0m\u001b[0m\n\u001b[0;32m     13\u001b[0m                     \u001b[1;32mif\u001b[0m \u001b[0mi\u001b[0m \u001b[1;33m!=\u001b[0m \u001b[0mjk\u001b[0m\u001b[1;33m:\u001b[0m\u001b[1;33m\u001b[0m\u001b[1;33m\u001b[0m\u001b[0m\n\u001b[1;32m---> 14\u001b[1;33m                         \u001b[0minter\u001b[0m\u001b[1;33m.\u001b[0m\u001b[0mappend\u001b[0m\u001b[1;33m(\u001b[0m\u001b[0mi\u001b[0m\u001b[1;33m,\u001b[0m \u001b[0mj\u001b[0m\u001b[1;33m)\u001b[0m\u001b[1;33m\u001b[0m\u001b[1;33m\u001b[0m\u001b[0m\n\u001b[0m\u001b[0;32m     15\u001b[0m                         \u001b[0mi\u001b[0m\u001b[1;33m-=\u001b[0m\u001b[1;36m1\u001b[0m\u001b[1;33m\u001b[0m\u001b[1;33m\u001b[0m\u001b[0m\n\u001b[0;32m     16\u001b[0m                         \u001b[1;32mbreak\u001b[0m\u001b[1;33m\u001b[0m\u001b[1;33m\u001b[0m\u001b[0m\n",
      "\u001b[1;31mTypeError\u001b[0m: append() takes exactly one argument (2 given)"
     ]
    }
   ],
   "source": [
    "li = [1,2,3,6,4]\n",
    "li1 = [4,5,9,1,2,3]\n",
    "#n = int(input(\"Enter no of terms You want to enter in a set 1: \"))\n",
    "#while n != 0:\n",
    "#    terms = int(input(\"Enter element: \" ))\n",
    "#    li.append(terms)\n",
    "#    n-=1\n",
    "#p = int(input(\"Enter no of terms You want to enter in a set 2: \"))\n",
    "#while p != 0:\n",
    "#    terms2 = int(input(\"Enter element: \" ))\n",
    "#    li1.append(terms2)\n",
    "#    p-=1\n",
    "#print(li)\n",
    "#print(li1)\n",
    "func(li,li1)"
   ]
  },
  {
   "cell_type": "code",
   "execution_count": null,
   "metadata": {},
   "outputs": [],
   "source": [
    "def tup(first_name, last_name, *ye):        \n",
    "    print(first_name,\" \",last_name, \" \", )\n",
    "    "
   ]
  },
  {
   "cell_type": "code",
   "execution_count": 13,
   "metadata": {},
   "outputs": [
    {
     "name": "stdout",
     "output_type": "stream",
     "text": [
      "1   2   (100, 200)\n"
     ]
    }
   ],
   "source": [
    "tup(1,2, 100, 200)"
   ]
  },
  {
   "cell_type": "code",
   "execution_count": 7,
   "metadata": {},
   "outputs": [],
   "source": [
    "def display_nums(first_num, second_num,*opt_nums):\n",
    "    print(first_num)\n",
    "    print(second_num)\n",
    "    print(opt_nums)"
   ]
  },
  {
   "cell_type": "code",
   "execution_count": 14,
   "metadata": {},
   "outputs": [
    {
     "name": "stdout",
     "output_type": "stream",
     "text": [
      "hassan\n",
      "brahim\n",
      "('farhan', 'samrah')\n"
     ]
    }
   ],
   "source": [
    "display_nums(\"hassan\", \"brahim\", \"farhan\", \"samrah\")"
   ]
  },
  {
   "cell_type": "code",
   "execution_count": 26,
   "metadata": {},
   "outputs": [
    {
     "ename": "TypeError",
     "evalue": "'int' object does not support item deletion",
     "output_type": "error",
     "traceback": [
      "\u001b[1;31m---------------------------------------------------------------------------\u001b[0m",
      "\u001b[1;31mTypeError\u001b[0m                                 Traceback (most recent call last)",
      "\u001b[1;32m<ipython-input-26-a775d97b13e8>\u001b[0m in \u001b[0;36m<module>\u001b[1;34m\u001b[0m\n\u001b[0;32m     10\u001b[0m \u001b[1;32mfor\u001b[0m \u001b[0mu\u001b[0m \u001b[1;32min\u001b[0m \u001b[0mk\u001b[0m\u001b[1;33m:\u001b[0m\u001b[1;33m\u001b[0m\u001b[1;33m\u001b[0m\u001b[0m\n\u001b[0;32m     11\u001b[0m     \u001b[1;32mif\u001b[0m \u001b[0mu\u001b[0m \u001b[1;33m==\u001b[0m \u001b[0mu\u001b[0m\u001b[1;33m:\u001b[0m\u001b[1;33m\u001b[0m\u001b[1;33m\u001b[0m\u001b[0m\n\u001b[1;32m---> 12\u001b[1;33m         \u001b[1;32mdel\u001b[0m \u001b[0mu\u001b[0m\u001b[1;33m[\u001b[0m\u001b[0mk\u001b[0m\u001b[1;33m]\u001b[0m\u001b[1;33m\u001b[0m\u001b[1;33m\u001b[0m\u001b[0m\n\u001b[0m\u001b[0;32m     13\u001b[0m \u001b[0mprint\u001b[0m\u001b[1;33m(\u001b[0m\u001b[0mk\u001b[0m\u001b[1;33m)\u001b[0m\u001b[1;33m\u001b[0m\u001b[1;33m\u001b[0m\u001b[0m\n",
      "\u001b[1;31mTypeError\u001b[0m: 'int' object does not support item deletion"
     ]
    }
   ],
   "source": [
    "li = [1,2,3,4]\n",
    "li1 = [1,2,4,6,8,9]\n",
    "k = []\n",
    "for i in li:\n",
    "    for j in li1:\n",
    "        if j != i:\n",
    "            k.append(j)\n",
    "        else:        \n",
    "            break\n",
    "for u in k:\n",
    "    if u == u:\n",
    "        del u[k]\n",
    "print(k)"
   ]
  },
  {
   "cell_type": "code",
   "execution_count": null,
   "metadata": {},
   "outputs": [],
   "source": []
  }
 ],
 "metadata": {
  "kernelspec": {
   "display_name": "Python 3",
   "language": "python",
   "name": "python3"
  },
  "language_info": {
   "codemirror_mode": {
    "name": "ipython",
    "version": 3
   },
   "file_extension": ".py",
   "mimetype": "text/x-python",
   "name": "python",
   "nbconvert_exporter": "python",
   "pygments_lexer": "ipython3",
   "version": "3.7.3"
  }
 },
 "nbformat": 4,
 "nbformat_minor": 2
}
