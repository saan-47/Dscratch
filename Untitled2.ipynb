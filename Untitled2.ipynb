{
 "cells": [
  {
   "cell_type": "code",
   "execution_count": 1,
   "metadata": {},
   "outputs": [
    {
     "name": "stdout",
     "output_type": "stream",
     "text": [
      "hassan\n"
     ]
    }
   ],
   "source": [
    "print(\"hassan\")"
   ]
  },
  {
   "cell_type": "code",
   "execution_count": 14,
   "metadata": {},
   "outputs": [
    {
     "name": "stdout",
     "output_type": "stream",
     "text": [
      "Current letter P\n",
      "Current letter y\n",
      "Current letter t\n",
      "Current letter h\n",
      "Current letter o\n",
      "Current letter n\n"
     ]
    }
   ],
   "source": [
    "for latter in 'Python':\n",
    "    print ('Current letter', latter)\n"
   ]
  },
  {
   "cell_type": "code",
   "execution_count": 21,
   "metadata": {},
   "outputs": [
    {
     "name": "stdout",
     "output_type": "stream",
     "text": [
      "Current fruit : ['Tomato', 'potato', 'Carrot', 'Cucumber']\n",
      "Current fruit : ['Tomato', 'potato', 'Carrot', 'Cucumber']\n",
      "Current fruit : ['Tomato', 'potato', 'Carrot', 'Cucumber']\n",
      "Current fruit : ['Tomato', 'potato', 'Carrot', 'Cucumber']\n"
     ]
    }
   ],
   "source": [
    "vegetable = [\"Tomato\", \"potato\", \"Carrot\", \"Cucumber\"]\n",
    "for fruit in vegetable:        # Second Example\n",
    "   print ('Current fruit :', vegetable)\n",
    "    "
   ]
  },
  {
   "cell_type": "code",
   "execution_count": 23,
   "metadata": {},
   "outputs": [
    {
     "name": "stdout",
     "output_type": "stream",
     "text": [
      "Hello, Python!\n"
     ]
    }
   ],
   "source": [
    " print (\"Hello, Python!\")"
   ]
  },
  {
   "cell_type": "code",
   "execution_count": null,
   "metadata": {},
   "outputs": [],
   "source": []
  }
 ],
 "metadata": {
  "kernelspec": {
   "display_name": "Python 3",
   "language": "python",
   "name": "python3"
  },
  "language_info": {
   "codemirror_mode": {
    "name": "ipython",
    "version": 3
   },
   "file_extension": ".py",
   "mimetype": "text/x-python",
   "name": "python",
   "nbconvert_exporter": "python",
   "pygments_lexer": "ipython3",
   "version": "3.7.3"
  }
 },
 "nbformat": 4,
 "nbformat_minor": 2
}
